{
 "cells": [
  {
   "cell_type": "code",
   "execution_count": null,
   "id": "87b2d5da-320e-4f56-a255-58746260c1d9",
   "metadata": {},
   "outputs": [],
   "source": [
    "import pandas as pd\n",
    "\n",
    "salary_df = pd.read_excel('./salary_data_states.xlsx')\n",
    "salary_df.head()\n"
   ]
  },
  {
   "cell_type": "code",
   "execution_count": null,
   "id": "dda35dab-f268-4036-ab7b-77311c8a615f",
   "metadata": {},
   "outputs": [],
   "source": [
    "# I. Do specific sub-types of data-related jobs have higher or lower salaries than others ?\n",
    "\n",
    "# 1a - Which companies have the highest salries for those subtypes ?\n",
    "\n",
    "# 1b - Changes with location of the job ?\n",
    "\n",
    "# 1c - Will the answer change if I take the standard of living into account ?"
   ]
  },
  {
   "cell_type": "code",
   "execution_count": null,
   "id": "c1517dbd-afae-40cf-bea7-60a8d6a8df6d",
   "metadata": {},
   "outputs": [],
   "source": [
    "# II. What states (of those I am willing to move to) have the highest paying data-related salaries ?\n",
    " \n",
    "# 2a - Differences between job subcategories ?\n",
    "\n",
    "# 2b - Which companies have the highest salaries of those sub-types ?\n",
    "\n",
    "# 2c - Will the answer change if I take the standard of living into account ?"
   ]
  },
  {
   "cell_type": "code",
   "execution_count": null,
   "id": "daba57aa-6142-4979-9700-1adb332e8ab8",
   "metadata": {},
   "outputs": [],
   "source": [
    "# III. How do offered salaries compare to the prevailing wage ?\n",
    "\n",
    "# 3a - Are there job sub-categories that tend to get over- or under- paid ?\n",
    "\n",
    "# 3b - Are there companies that tend to over- or under- pay ?\n",
    "\n",
    "# 3c - Will the answer change if I take the standard of living into account ?"
   ]
  },
  {
   "cell_type": "code",
   "execution_count": null,
   "id": "04c1343b-f5a2-4886-8f85-55d763ce5f45",
   "metadata": {},
   "outputs": [],
   "source": [
    "# IV. "
   ]
  },
  {
   "cell_type": "code",
   "execution_count": null,
   "id": "f8984924-e6c2-4f47-829e-21ac78d4ff89",
   "metadata": {},
   "outputs": [],
   "source": [
    "# V."
   ]
  },
  {
   "cell_type": "code",
   "execution_count": null,
   "id": "89626a07-7008-45e3-aaa5-f00068e0df51",
   "metadata": {},
   "outputs": [],
   "source": [
    "# VI."
   ]
  }
 ],
 "metadata": {
  "kernelspec": {
   "display_name": "Python 3 (ipykernel)",
   "language": "python",
   "name": "python3"
  },
  "language_info": {
   "codemirror_mode": {
    "name": "ipython",
    "version": 3
   },
   "file_extension": ".py",
   "mimetype": "text/x-python",
   "name": "python",
   "nbconvert_exporter": "python",
   "pygments_lexer": "ipython3",
   "version": "3.12.4"
  }
 },
 "nbformat": 4,
 "nbformat_minor": 5
}
