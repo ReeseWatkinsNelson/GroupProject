{
 "cells": [
  {
   "cell_type": "code",
   "execution_count": 21,
   "id": "87b2d5da-320e-4f56-a255-58746260c1d9",
   "metadata": {},
   "outputs": [
    {
     "data": {
      "text/html": [
       "<div>\n",
       "<style scoped>\n",
       "    .dataframe tbody tr th:only-of-type {\n",
       "        vertical-align: middle;\n",
       "    }\n",
       "\n",
       "    .dataframe tbody tr th {\n",
       "        vertical-align: top;\n",
       "    }\n",
       "\n",
       "    .dataframe thead th {\n",
       "        text-align: right;\n",
       "    }\n",
       "</style>\n",
       "<table border=\"1\" class=\"dataframe\">\n",
       "  <thead>\n",
       "    <tr style=\"text-align: right;\">\n",
       "      <th></th>\n",
       "      <th>CASE_NUMBER</th>\n",
       "      <th>CASE_STATUS</th>\n",
       "      <th>CASE_RECEIVED_DATE</th>\n",
       "      <th>DECISION_DATE</th>\n",
       "      <th>EMPLOYER_NAME</th>\n",
       "      <th>PREVAILING_WAGE_SUBMITTED</th>\n",
       "      <th>PREVAILING_WAGE_SUBMITTED_UNIT</th>\n",
       "      <th>PAID_WAGE_SUBMITTED</th>\n",
       "      <th>PAID_WAGE_SUBMITTED_UNIT</th>\n",
       "      <th>JOB_TITLE</th>\n",
       "      <th>...</th>\n",
       "      <th>PREVAILING_WAGE_SOC_TITLE</th>\n",
       "      <th>WORK_STATE</th>\n",
       "      <th>WORK_STATE_ABBREVIATION</th>\n",
       "      <th>WORK_POSTAL_CODE</th>\n",
       "      <th>FULL_TIME_POSITION_Y_N</th>\n",
       "      <th>VISA_CLASS</th>\n",
       "      <th>PREVAILING_WAGE_PER_YEAR</th>\n",
       "      <th>PAID_WAGE_PER_YEAR</th>\n",
       "      <th>JOB_TITLE_SUBGROUP</th>\n",
       "      <th>order</th>\n",
       "    </tr>\n",
       "  </thead>\n",
       "  <tbody>\n",
       "    <tr>\n",
       "      <th>0</th>\n",
       "      <td>I-200-14073-248840</td>\n",
       "      <td>denied</td>\n",
       "      <td>3/14/2014</td>\n",
       "      <td>3/21/2014</td>\n",
       "      <td>ADVANCED TECHNOLOGY GROUP USA, INC.</td>\n",
       "      <td>6217100.0</td>\n",
       "      <td>year</td>\n",
       "      <td>62171.0</td>\n",
       "      <td>year</td>\n",
       "      <td>SOFTWARE ENGINEER</td>\n",
       "      <td>...</td>\n",
       "      <td>Software Developers, Applications</td>\n",
       "      <td>Illinois</td>\n",
       "      <td>IL</td>\n",
       "      <td>NaN</td>\n",
       "      <td>y</td>\n",
       "      <td>H-1B</td>\n",
       "      <td>NaN</td>\n",
       "      <td>62171.0</td>\n",
       "      <td>software engineer</td>\n",
       "      <td>1</td>\n",
       "    </tr>\n",
       "    <tr>\n",
       "      <th>1</th>\n",
       "      <td>A-15061-55212</td>\n",
       "      <td>denied</td>\n",
       "      <td>3/19/2015</td>\n",
       "      <td>3/19/2015</td>\n",
       "      <td>SAN FRANCISCO STATE UNIVERSITY</td>\n",
       "      <td>5067600.0</td>\n",
       "      <td>year</td>\n",
       "      <td>91440.0</td>\n",
       "      <td>year</td>\n",
       "      <td>Assistant Professor of Marketing</td>\n",
       "      <td>...</td>\n",
       "      <td>Business Teachers, Postsecondary</td>\n",
       "      <td>California</td>\n",
       "      <td>CA</td>\n",
       "      <td>94132.0</td>\n",
       "      <td>NaN</td>\n",
       "      <td>greencard</td>\n",
       "      <td>NaN</td>\n",
       "      <td>91440.0</td>\n",
       "      <td>assistant professor</td>\n",
       "      <td>2</td>\n",
       "    </tr>\n",
       "    <tr>\n",
       "      <th>2</th>\n",
       "      <td>I-200-13256-001092</td>\n",
       "      <td>denied</td>\n",
       "      <td>9/13/2013</td>\n",
       "      <td>9/23/2013</td>\n",
       "      <td>CAROUSEL SCHOOL</td>\n",
       "      <td>4947000.0</td>\n",
       "      <td>year</td>\n",
       "      <td>49470.0</td>\n",
       "      <td>year</td>\n",
       "      <td>SPECIAL EDUCATION TEACHER</td>\n",
       "      <td>...</td>\n",
       "      <td>Special Education Teachers, Kindergarten and E...</td>\n",
       "      <td>California</td>\n",
       "      <td>CA</td>\n",
       "      <td>NaN</td>\n",
       "      <td>y</td>\n",
       "      <td>H-1B</td>\n",
       "      <td>NaN</td>\n",
       "      <td>49470.0</td>\n",
       "      <td>teacher</td>\n",
       "      <td>3</td>\n",
       "    </tr>\n",
       "    <tr>\n",
       "      <th>3</th>\n",
       "      <td>I-200-14087-353657</td>\n",
       "      <td>denied</td>\n",
       "      <td>3/28/2014</td>\n",
       "      <td>4/7/2014</td>\n",
       "      <td>HARLINGEN CONSOLIDATED INDEPENDENT SCHOOL DIST...</td>\n",
       "      <td>251052.0</td>\n",
       "      <td>month</td>\n",
       "      <td>43800.0</td>\n",
       "      <td>year</td>\n",
       "      <td>SCIENCE TEACHER</td>\n",
       "      <td>...</td>\n",
       "      <td>Biological Science Teachers, Postsecondary</td>\n",
       "      <td>Texas</td>\n",
       "      <td>TX</td>\n",
       "      <td>NaN</td>\n",
       "      <td>y</td>\n",
       "      <td>H-1B</td>\n",
       "      <td>NaN</td>\n",
       "      <td>43800.0</td>\n",
       "      <td>teacher</td>\n",
       "      <td>4</td>\n",
       "    </tr>\n",
       "    <tr>\n",
       "      <th>4</th>\n",
       "      <td>I-203-14259-128844</td>\n",
       "      <td>denied</td>\n",
       "      <td>9/16/2014</td>\n",
       "      <td>9/23/2014</td>\n",
       "      <td>SIGNAL SCIENCES CORPORATION</td>\n",
       "      <td>84573.0</td>\n",
       "      <td>bi-weekly</td>\n",
       "      <td>170000.0</td>\n",
       "      <td>year</td>\n",
       "      <td>SENIOR SOFTWARE ENGINEER</td>\n",
       "      <td>...</td>\n",
       "      <td>Software Developers, Systems Software</td>\n",
       "      <td>Oregon</td>\n",
       "      <td>OR</td>\n",
       "      <td>NaN</td>\n",
       "      <td>y</td>\n",
       "      <td>E-3 Australian</td>\n",
       "      <td>NaN</td>\n",
       "      <td>170000.0</td>\n",
       "      <td>software engineer</td>\n",
       "      <td>5</td>\n",
       "    </tr>\n",
       "  </tbody>\n",
       "</table>\n",
       "<p>5 rows × 27 columns</p>\n",
       "</div>"
      ],
      "text/plain": [
       "          CASE_NUMBER CASE_STATUS CASE_RECEIVED_DATE DECISION_DATE  \\\n",
       "0  I-200-14073-248840      denied          3/14/2014     3/21/2014   \n",
       "1       A-15061-55212      denied          3/19/2015     3/19/2015   \n",
       "2  I-200-13256-001092      denied          9/13/2013     9/23/2013   \n",
       "3  I-200-14087-353657      denied          3/28/2014      4/7/2014   \n",
       "4  I-203-14259-128844      denied          9/16/2014     9/23/2014   \n",
       "\n",
       "                                       EMPLOYER_NAME  \\\n",
       "0                ADVANCED TECHNOLOGY GROUP USA, INC.   \n",
       "1                     SAN FRANCISCO STATE UNIVERSITY   \n",
       "2                                    CAROUSEL SCHOOL   \n",
       "3  HARLINGEN CONSOLIDATED INDEPENDENT SCHOOL DIST...   \n",
       "4                        SIGNAL SCIENCES CORPORATION   \n",
       "\n",
       "   PREVAILING_WAGE_SUBMITTED PREVAILING_WAGE_SUBMITTED_UNIT  \\\n",
       "0                  6217100.0                           year   \n",
       "1                  5067600.0                           year   \n",
       "2                  4947000.0                           year   \n",
       "3                   251052.0                          month   \n",
       "4                    84573.0                      bi-weekly   \n",
       "\n",
       "   PAID_WAGE_SUBMITTED PAID_WAGE_SUBMITTED_UNIT  \\\n",
       "0              62171.0                     year   \n",
       "1              91440.0                     year   \n",
       "2              49470.0                     year   \n",
       "3              43800.0                     year   \n",
       "4             170000.0                     year   \n",
       "\n",
       "                          JOB_TITLE  ...  \\\n",
       "0                 SOFTWARE ENGINEER  ...   \n",
       "1  Assistant Professor of Marketing  ...   \n",
       "2         SPECIAL EDUCATION TEACHER  ...   \n",
       "3                   SCIENCE TEACHER  ...   \n",
       "4          SENIOR SOFTWARE ENGINEER  ...   \n",
       "\n",
       "                           PREVAILING_WAGE_SOC_TITLE  WORK_STATE  \\\n",
       "0                  Software Developers, Applications    Illinois   \n",
       "1                   Business Teachers, Postsecondary  California   \n",
       "2  Special Education Teachers, Kindergarten and E...  California   \n",
       "3         Biological Science Teachers, Postsecondary       Texas   \n",
       "4              Software Developers, Systems Software      Oregon   \n",
       "\n",
       "  WORK_STATE_ABBREVIATION WORK_POSTAL_CODE  FULL_TIME_POSITION_Y_N  \\\n",
       "0                      IL              NaN                       y   \n",
       "1                      CA          94132.0                     NaN   \n",
       "2                      CA              NaN                       y   \n",
       "3                      TX              NaN                       y   \n",
       "4                      OR              NaN                       y   \n",
       "\n",
       "       VISA_CLASS PREVAILING_WAGE_PER_YEAR PAID_WAGE_PER_YEAR  \\\n",
       "0            H-1B                      NaN            62171.0   \n",
       "1       greencard                      NaN            91440.0   \n",
       "2            H-1B                      NaN            49470.0   \n",
       "3            H-1B                      NaN            43800.0   \n",
       "4  E-3 Australian                      NaN           170000.0   \n",
       "\n",
       "    JOB_TITLE_SUBGROUP order  \n",
       "0    software engineer     1  \n",
       "1  assistant professor     2  \n",
       "2              teacher     3  \n",
       "3              teacher     4  \n",
       "4    software engineer     5  \n",
       "\n",
       "[5 rows x 27 columns]"
      ]
     },
     "execution_count": 21,
     "metadata": {},
     "output_type": "execute_result"
    }
   ],
   "source": [
    "import pandas as pd\n",
    "import seaborn as sns\n",
    "\n",
    "salary_df = pd.read_excel('./salary_data_states.xlsx')\n",
    "salary_df.head()"
   ]
  },
  {
   "cell_type": "code",
   "execution_count": 22,
   "id": "7cd42758-4ea7-46de-a2d8-e7a2421f5122",
   "metadata": {},
   "outputs": [
    {
     "data": {
      "text/html": [
       "<div>\n",
       "<style scoped>\n",
       "    .dataframe tbody tr th:only-of-type {\n",
       "        vertical-align: middle;\n",
       "    }\n",
       "\n",
       "    .dataframe tbody tr th {\n",
       "        vertical-align: top;\n",
       "    }\n",
       "\n",
       "    .dataframe thead th {\n",
       "        text-align: right;\n",
       "    }\n",
       "</style>\n",
       "<table border=\"1\" class=\"dataframe\">\n",
       "  <thead>\n",
       "    <tr style=\"text-align: right;\">\n",
       "      <th></th>\n",
       "      <th>PREVAILING_WAGE_SUBMITTED</th>\n",
       "      <th>PAID_WAGE_SUBMITTED</th>\n",
       "      <th>EXPERIENCE_REQUIRED_NUM_MONTHS</th>\n",
       "      <th>PREVAILING_WAGE_PER_YEAR</th>\n",
       "      <th>PAID_WAGE_PER_YEAR</th>\n",
       "      <th>order</th>\n",
       "    </tr>\n",
       "  </thead>\n",
       "  <tbody>\n",
       "    <tr>\n",
       "      <th>count</th>\n",
       "      <td>1.672780e+05</td>\n",
       "      <td>1.672780e+05</td>\n",
       "      <td>4965.000000</td>\n",
       "      <td>167210.000000</td>\n",
       "      <td>1.672780e+05</td>\n",
       "      <td>167278.000000</td>\n",
       "    </tr>\n",
       "    <tr>\n",
       "      <th>mean</th>\n",
       "      <td>7.115752e+04</td>\n",
       "      <td>8.164186e+04</td>\n",
       "      <td>34.692044</td>\n",
       "      <td>74274.868236</td>\n",
       "      <td>8.553277e+04</td>\n",
       "      <td>83714.716305</td>\n",
       "    </tr>\n",
       "    <tr>\n",
       "      <th>std</th>\n",
       "      <td>3.874624e+04</td>\n",
       "      <td>4.147703e+04</td>\n",
       "      <td>22.317783</td>\n",
       "      <td>25356.245893</td>\n",
       "      <td>3.873847e+04</td>\n",
       "      <td>48300.236431</td>\n",
       "    </tr>\n",
       "    <tr>\n",
       "      <th>min</th>\n",
       "      <td>5.050000e+00</td>\n",
       "      <td>5.050000e+00</td>\n",
       "      <td>0.000000</td>\n",
       "      <td>10504.000000</td>\n",
       "      <td>1.050000e+04</td>\n",
       "      <td>1.000000</td>\n",
       "    </tr>\n",
       "    <tr>\n",
       "      <th>25%</th>\n",
       "      <td>5.447500e+04</td>\n",
       "      <td>6.100000e+04</td>\n",
       "      <td>12.000000</td>\n",
       "      <td>56880.000000</td>\n",
       "      <td>6.300000e+04</td>\n",
       "      <td>41901.250000</td>\n",
       "    </tr>\n",
       "    <tr>\n",
       "      <th>50%</th>\n",
       "      <td>6.970100e+04</td>\n",
       "      <td>7.700000e+04</td>\n",
       "      <td>24.000000</td>\n",
       "      <td>70928.000000</td>\n",
       "      <td>7.860000e+04</td>\n",
       "      <td>83722.500000</td>\n",
       "    </tr>\n",
       "    <tr>\n",
       "      <th>75%</th>\n",
       "      <td>8.993700e+04</td>\n",
       "      <td>1.000000e+05</td>\n",
       "      <td>60.000000</td>\n",
       "      <td>90459.000000</td>\n",
       "      <td>1.000060e+05</td>\n",
       "      <td>125541.750000</td>\n",
       "    </tr>\n",
       "    <tr>\n",
       "      <th>max</th>\n",
       "      <td>6.217100e+06</td>\n",
       "      <td>2.500000e+06</td>\n",
       "      <td>144.000000</td>\n",
       "      <td>320000.000000</td>\n",
       "      <td>2.500000e+06</td>\n",
       "      <td>167361.000000</td>\n",
       "    </tr>\n",
       "  </tbody>\n",
       "</table>\n",
       "</div>"
      ],
      "text/plain": [
       "       PREVAILING_WAGE_SUBMITTED  PAID_WAGE_SUBMITTED  \\\n",
       "count               1.672780e+05         1.672780e+05   \n",
       "mean                7.115752e+04         8.164186e+04   \n",
       "std                 3.874624e+04         4.147703e+04   \n",
       "min                 5.050000e+00         5.050000e+00   \n",
       "25%                 5.447500e+04         6.100000e+04   \n",
       "50%                 6.970100e+04         7.700000e+04   \n",
       "75%                 8.993700e+04         1.000000e+05   \n",
       "max                 6.217100e+06         2.500000e+06   \n",
       "\n",
       "       EXPERIENCE_REQUIRED_NUM_MONTHS  PREVAILING_WAGE_PER_YEAR  \\\n",
       "count                     4965.000000             167210.000000   \n",
       "mean                        34.692044              74274.868236   \n",
       "std                         22.317783              25356.245893   \n",
       "min                          0.000000              10504.000000   \n",
       "25%                         12.000000              56880.000000   \n",
       "50%                         24.000000              70928.000000   \n",
       "75%                         60.000000              90459.000000   \n",
       "max                        144.000000             320000.000000   \n",
       "\n",
       "       PAID_WAGE_PER_YEAR          order  \n",
       "count        1.672780e+05  167278.000000  \n",
       "mean         8.553277e+04   83714.716305  \n",
       "std          3.873847e+04   48300.236431  \n",
       "min          1.050000e+04       1.000000  \n",
       "25%          6.300000e+04   41901.250000  \n",
       "50%          7.860000e+04   83722.500000  \n",
       "75%          1.000060e+05  125541.750000  \n",
       "max          2.500000e+06  167361.000000  "
      ]
     },
     "execution_count": 22,
     "metadata": {},
     "output_type": "execute_result"
    }
   ],
   "source": [
    "salary_df.describe()"
   ]
  },
  {
   "cell_type": "markdown",
   "id": "dbef9eff-dd28-4acd-af68-bd5b04e81a02",
   "metadata": {
    "jp-MarkdownHeadingCollapsed": true
   },
   "source": [
    "## I. Do specific sub-types of data-related jobs have higher or lower salaries than others ?"
   ]
  },
  {
   "cell_type": "code",
   "execution_count": 23,
   "id": "89626a07-7008-45e3-aaa5-f00068e0df51",
   "metadata": {},
   "outputs": [
    {
     "data": {
      "text/plain": [
       "JOB_TITLE_SUBGROUP\n",
       "attorney                 146413.596714\n",
       "management consultant    108251.334662\n",
       "data scientist           108021.038248\n",
       "assistant professor       94876.713707\n",
       "software engineer         92505.303013\n",
       "business analyst          71300.079566\n",
       "data analyst              70030.078688\n",
       "teacher                   46039.985507\n",
       "Name: PAID_WAGE_PER_YEAR, dtype: float64"
      ]
     },
     "execution_count": 23,
     "metadata": {},
     "output_type": "execute_result"
    }
   ],
   "source": [
    "avg_wage_by_subtype = salary_df.groupby('JOB_TITLE_SUBGROUP')['PAID_WAGE_PER_YEAR'].mean().sort_values(ascending=False)\n",
    "avg_wage_by_subtype"
   ]
  },
  {
   "cell_type": "markdown",
   "id": "0dce1c9d-7828-4d08-b75f-661d1d52ea09",
   "metadata": {},
   "source": [
    "### 1a - Which companies have the highest salries for those subtypes ?"
   ]
  },
  {
   "cell_type": "code",
   "execution_count": 24,
   "id": "f9dfde5a-d13d-4246-8db4-f038db169297",
   "metadata": {},
   "outputs": [
    {
     "data": {
      "text/html": [
       "<div>\n",
       "<style scoped>\n",
       "    .dataframe tbody tr th:only-of-type {\n",
       "        vertical-align: middle;\n",
       "    }\n",
       "\n",
       "    .dataframe tbody tr th {\n",
       "        vertical-align: top;\n",
       "    }\n",
       "\n",
       "    .dataframe thead th {\n",
       "        text-align: right;\n",
       "    }\n",
       "</style>\n",
       "<table border=\"1\" class=\"dataframe\">\n",
       "  <thead>\n",
       "    <tr style=\"text-align: right;\">\n",
       "      <th></th>\n",
       "      <th>JOB_TITLE_SUBGROUP</th>\n",
       "      <th>EMPLOYER_NAME</th>\n",
       "      <th>PAID_WAGE_PER_YEAR</th>\n",
       "    </tr>\n",
       "  </thead>\n",
       "  <tbody>\n",
       "    <tr>\n",
       "      <th>1805</th>\n",
       "      <td>attorney</td>\n",
       "      <td>HUGHES HUBBARD &amp; REED LLP</td>\n",
       "      <td>2400000.0</td>\n",
       "    </tr>\n",
       "    <tr>\n",
       "      <th>7771</th>\n",
       "      <td>business analyst</td>\n",
       "      <td>THE UNIVERSITY OF TEXAS SYSTEM ADMINISTRATION</td>\n",
       "      <td>677508.0</td>\n",
       "    </tr>\n",
       "    <tr>\n",
       "      <th>20874</th>\n",
       "      <td>software engineer</td>\n",
       "      <td>SIGMATEK SYSTEMS, LLC</td>\n",
       "      <td>600000.0</td>\n",
       "    </tr>\n",
       "    <tr>\n",
       "      <th>10680</th>\n",
       "      <td>management consultant</td>\n",
       "      <td>CO-CREATION PARTNERS, INC.</td>\n",
       "      <td>582400.0</td>\n",
       "    </tr>\n",
       "    <tr>\n",
       "      <th>23830</th>\n",
       "      <td>teacher</td>\n",
       "      <td>AUTISTIC TREATMENT CENTER A/K/A AUTISM TREATME...</td>\n",
       "      <td>542400.0</td>\n",
       "    </tr>\n",
       "    <tr>\n",
       "      <th>285</th>\n",
       "      <td>assistant professor</td>\n",
       "      <td>DIXIE STATE COLLEGE OF UTAH</td>\n",
       "      <td>492250.0</td>\n",
       "    </tr>\n",
       "    <tr>\n",
       "      <th>9200</th>\n",
       "      <td>data analyst</td>\n",
       "      <td>INTUIT</td>\n",
       "      <td>433161.5</td>\n",
       "    </tr>\n",
       "    <tr>\n",
       "      <th>10411</th>\n",
       "      <td>data scientist</td>\n",
       "      <td>NETFLIX</td>\n",
       "      <td>220000.0</td>\n",
       "    </tr>\n",
       "  </tbody>\n",
       "</table>\n",
       "</div>"
      ],
      "text/plain": [
       "          JOB_TITLE_SUBGROUP  \\\n",
       "1805                attorney   \n",
       "7771        business analyst   \n",
       "20874      software engineer   \n",
       "10680  management consultant   \n",
       "23830                teacher   \n",
       "285      assistant professor   \n",
       "9200            data analyst   \n",
       "10411         data scientist   \n",
       "\n",
       "                                           EMPLOYER_NAME  PAID_WAGE_PER_YEAR  \n",
       "1805                           HUGHES HUBBARD & REED LLP           2400000.0  \n",
       "7771       THE UNIVERSITY OF TEXAS SYSTEM ADMINISTRATION            677508.0  \n",
       "20874                              SIGMATEK SYSTEMS, LLC            600000.0  \n",
       "10680                         CO-CREATION PARTNERS, INC.            582400.0  \n",
       "23830  AUTISTIC TREATMENT CENTER A/K/A AUTISM TREATME...            542400.0  \n",
       "285                          DIXIE STATE COLLEGE OF UTAH            492250.0  \n",
       "9200                                              INTUIT            433161.5  \n",
       "10411                                            NETFLIX            220000.0  "
      ]
     },
     "execution_count": 24,
     "metadata": {},
     "output_type": "execute_result"
    }
   ],
   "source": [
    "highest_paid_companies = salary_df.groupby(['JOB_TITLE_SUBGROUP', 'EMPLOYER_NAME'])['PAID_WAGE_PER_YEAR'].mean().reset_index()\n",
    "top_companies_per_subgroup = highest_paid_companies.loc[highest_paid_companies.groupby('JOB_TITLE_SUBGROUP')['PAID_WAGE_PER_YEAR'].idxmax()].sort_values(by='PAID_WAGE_PER_YEAR', ascending=False)\n",
    "top_companies_per_subgroup"
   ]
  },
  {
   "cell_type": "markdown",
   "id": "6425be64-9695-4228-9551-2da5929969d6",
   "metadata": {},
   "source": [
    "### 1b - Changes with location of the job ?"
   ]
  },
  {
   "cell_type": "code",
   "execution_count": 25,
   "id": "c04dcf1a-9394-4f24-8328-07158c8eb596",
   "metadata": {},
   "outputs": [
    {
     "data": {
      "text/plain": [
       "WORK_STATE\n",
       "California    117824.161492\n",
       "Washington    116132.606905\n",
       "Minnesota     111457.000000\n",
       "New York      106332.276119\n",
       "Oregon        106140.850000\n",
       "Name: data scientist, dtype: float64"
      ]
     },
     "execution_count": 25,
     "metadata": {},
     "output_type": "execute_result"
    }
   ],
   "source": [
    "avg_wage_by_state_subgroup = salary_df.groupby(['WORK_STATE', 'JOB_TITLE_SUBGROUP'])['PAID_WAGE_PER_YEAR'].mean().unstack().fillna(0)\n",
    "avg_wage_by_state_subgroup['data scientist'].sort_values(ascending=False).head()"
   ]
  },
  {
   "cell_type": "markdown",
   "id": "9ce2873c-c21c-4761-a124-9c20badf4556",
   "metadata": {},
   "source": [
    "### 1c - Will the answer change if I take the standard of living into account ?"
   ]
  },
  {
   "cell_type": "markdown",
   "id": "b8932c4f-269f-41f5-8c36-e586316d8870",
   "metadata": {},
   "source": [
    "Yes, the answer would change if you were to take the standard of living into account as California is one of the most expensive states to live in compared to Minnesota which is generally a less expensive state to live in."
   ]
  },
  {
   "cell_type": "markdown",
   "id": "57bbd862-82a0-4b5e-8999-3813a2411261",
   "metadata": {
    "jp-MarkdownHeadingCollapsed": true
   },
   "source": [
    "## V. What specific sub-types require higher experience and education, is this correlated with salary ?"
   ]
  },
  {
   "cell_type": "markdown",
   "id": "e0fef7ad-f2e6-487b-b62e-09d2c79a2346",
   "metadata": {},
   "source": [
    "### ID'ing sub-types with higher experience requirements "
   ]
  },
  {
   "cell_type": "code",
   "execution_count": 26,
   "id": "2cd218c5-e504-4af0-a752-7bc0990b73d8",
   "metadata": {},
   "outputs": [
    {
     "name": "stdout",
     "output_type": "stream",
     "text": [
      "Average Experience Required by Job Subgroup:\n",
      "JOB_TITLE_SUBGROUP\n",
      "management consultant    37.285714\n",
      "software engineer        36.145297\n",
      "data analyst             33.703125\n",
      "teacher                  30.857143\n",
      "business analyst         30.608614\n",
      "attorney                 26.078947\n",
      "data scientist           22.125000\n",
      "assistant professor      15.572519\n",
      "Name: EXPERIENCE_REQUIRED_NUM_MONTHS, dtype: float64\n"
     ]
    }
   ],
   "source": [
    "experience_by_subtype = salary_df.groupby('JOB_TITLE_SUBGROUP')['EXPERIENCE_REQUIRED_NUM_MONTHS'].mean().sort_values(ascending=False)\n",
    "print(\"Average Experience Required by Job Subgroup:\")\n",
    "print(experience_by_subtype)"
   ]
  },
  {
   "cell_type": "markdown",
   "id": "7468fd88-2a58-4578-850b-ceaa904ba579",
   "metadata": {},
   "source": [
    "This output shows the average experience (in months) required for each job title subgroup:\n",
    "\n",
    "Management Consultant requires the highest average experience (37.29 months), followed closely by Software Engineer (36.15 months).\n",
    "Data Analyst and Teacher also have relatively high experience requirements at around 33 to 30 months.\n",
    "\n",
    "Business Analyst, Attorney, and Data Scientist have lower experience requirements, ranging from 22 to 26 months.\n",
    "Assistant Professor requires the least average experience at around 15.57 months.\n",
    "\n",
    "This ranking tells us which job subgroups have the highest demand for experienced candidates. Roles like Management Consultant and Software Engineer typically involve complex tasks that may require substantial prior experience."
   ]
  },
  {
   "cell_type": "markdown",
   "id": "f57da70f-3027-444a-b0ea-bc7b5cf11dc0",
   "metadata": {},
   "source": [
    "### ID'ing sub-types with higher education requirements"
   ]
  },
  {
   "cell_type": "code",
   "execution_count": 27,
   "id": "c74971a0-fe87-42cd-ad5f-0cdda90eca27",
   "metadata": {},
   "outputs": [
    {
     "name": "stdout",
     "output_type": "stream",
     "text": [
      "\n",
      "Education Level Distribution by Job Subgroup:\n",
      "EDUCATION_LEVEL_REQUIRED  Associate's  Bachelor's  Doctorate  High School  \\\n",
      "JOB_TITLE_SUBGROUP                                                          \n",
      "assistant professor               0.0         0.0     1078.0          0.0   \n",
      "attorney                          0.0         1.0        4.0          0.0   \n",
      "business analyst                  3.0       360.0        2.0          1.0   \n",
      "data analyst                      0.0        49.0        0.0          0.0   \n",
      "data scientist                    0.0         6.0        9.0          0.0   \n",
      "management consultant             0.0         6.0        1.0          1.0   \n",
      "software engineer                17.0      2932.0       82.0          1.0   \n",
      "teacher                           1.0       584.0        5.0          4.0   \n",
      "\n",
      "EDUCATION_LEVEL_REQUIRED  Master's  Other  \n",
      "JOB_TITLE_SUBGROUP                         \n",
      "assistant professor           62.0  214.0  \n",
      "attorney                       9.0   60.0  \n",
      "business analyst             453.0    4.0  \n",
      "data analyst                  76.0    0.0  \n",
      "data scientist                34.0    0.0  \n",
      "management consultant         11.0    0.0  \n",
      "software engineer           4809.0   24.0  \n",
      "teacher                       96.0   64.0  \n"
     ]
    }
   ],
   "source": [
    "education_by_subtype = salary_df.groupby('JOB_TITLE_SUBGROUP')['EDUCATION_LEVEL_REQUIRED'].value_counts().unstack().fillna(0)\n",
    "print(\"\\nEducation Level Distribution by Job Subgroup:\")\n",
    "print(education_by_subtype)"
   ]
  },
  {
   "cell_type": "markdown",
   "id": "214ad66e-6d16-49a8-8a56-1d5436dc08a4",
   "metadata": {},
   "source": [
    "This part provides a detailed distribution of educational requirements for each job title subgroup:\n",
    "\n",
    "Assistant Professor: Mostly requires a Doctorate degree (1078 positions), with very few needing a Master's (214).\n",
    "\n",
    "Attorney: Typically requires Master's (9 positions) or Doctorate (4), consistent with the qualifications needed for legal professions.\n",
    "\n",
    "Software Engineer: Primarily requires a Bachelor's (2992 positions) or Master's (4809), while Doctorate is relatively rare.\n",
    "\n",
    "Data Scientist: Has a mix of requirements but generally requires a Master's (38 positions) or a Doctorate (2).\n",
    "\n",
    "Business Analyst and Management Consultant: Both roles mainly require Bachelor's and Master's degrees.\n",
    "\n",
    "Teacher: Requires mostly Bachelor's and some Master's degrees.\n",
    "\n",
    "This analysis shows that academic roles (e.g., Assistant Professor) generally require more advanced degrees compared to corporate roles like Software Engineer or Data Analyst."
   ]
  },
  {
   "cell_type": "markdown",
   "id": "3fc6217e-60e9-4f96-a5b6-c497467b30e6",
   "metadata": {},
   "source": [
    "### Correlation Analysis"
   ]
  },
  {
   "cell_type": "code",
   "execution_count": 28,
   "id": "54c7849c-9000-4746-adf8-d06412b7604a",
   "metadata": {},
   "outputs": [
    {
     "name": "stdout",
     "output_type": "stream",
     "text": [
      "\n",
      "Correlation Matrix:\n",
      "                                EXPERIENCE_REQUIRED_NUM_MONTHS  \\\n",
      "EXPERIENCE_REQUIRED_NUM_MONTHS                        1.000000   \n",
      "EDUCATION_LEVEL_REQUIRED_NUM                         -0.237354   \n",
      "PAID_WAGE_PER_YEAR                                    0.385180   \n",
      "\n",
      "                                EDUCATION_LEVEL_REQUIRED_NUM  \\\n",
      "EXPERIENCE_REQUIRED_NUM_MONTHS                     -0.237354   \n",
      "EDUCATION_LEVEL_REQUIRED_NUM                        1.000000   \n",
      "PAID_WAGE_PER_YEAR                                  0.052946   \n",
      "\n",
      "                                PAID_WAGE_PER_YEAR  \n",
      "EXPERIENCE_REQUIRED_NUM_MONTHS            0.385180  \n",
      "EDUCATION_LEVEL_REQUIRED_NUM              0.052946  \n",
      "PAID_WAGE_PER_YEAR                        1.000000  \n"
     ]
    }
   ],
   "source": [
    "education_mapping = {\n",
    "    'None': 0,\n",
    "    'High School': 1,\n",
    "    'Associate': 2,\n",
    "    'Bachelor': 3,\n",
    "    'Master': 4,\n",
    "    'Doctorate': 5\n",
    "}\n",
    "salary_df['EDUCATION_LEVEL_REQUIRED_NUM'] = salary_df['EDUCATION_LEVEL_REQUIRED'].map(education_mapping)\n",
    "\n",
    "correlation_matrix = salary_df[['EXPERIENCE_REQUIRED_NUM_MONTHS', 'EDUCATION_LEVEL_REQUIRED_NUM', 'PAID_WAGE_PER_YEAR']].corr()\n",
    "print(\"\\nCorrelation Matrix:\")\n",
    "print(correlation_matrix)"
   ]
  },
  {
   "cell_type": "markdown",
   "id": "1d6f06cd-d299-4c2a-81bf-f78426cf0e97",
   "metadata": {},
   "source": [
    "This analysis looks at the relationships between experience, education, and salary:\n",
    "\n",
    "Correlation Matrix\n",
    "Experience and Salary (0.39): There is a moderate positive correlation between the number of months of experience required and salary. This indicates that jobs requiring more experience tend to offer higher salaries, but it is not a strong correlation\n",
    "\n",
    "Education Level and Salary (0.053): There is a very weak positive correlation between education level and salary. This means that requiring higher education doesn't significantly affect the salary offered.\n",
    "\n",
    "Experience and Education (-0.237): There is a weak negative correlation between experience and education level. This suggests that as the education requirements increase, the experience requirements tend to decrease slightly. This might mean that employers consider advanced degrees as a substitute for experience."
   ]
  },
  {
   "cell_type": "markdown",
   "id": "0f3785f6-d01c-4800-bcb6-772f4763b4fa",
   "metadata": {},
   "source": [
    "### Visualizing correlation w/ heatmap"
   ]
  },
  {
   "cell_type": "code",
   "execution_count": 29,
   "id": "b1d96b20-1880-49d2-bf98-14ab9a19f4b2",
   "metadata": {},
   "outputs": [
    {
     "ename": "AttributeError",
     "evalue": "module 'matplotlib' has no attribute 'title'",
     "output_type": "error",
     "traceback": [
      "\u001b[1;31m---------------------------------------------------------------------------\u001b[0m",
      "\u001b[1;31mAttributeError\u001b[0m                            Traceback (most recent call last)",
      "Cell \u001b[1;32mIn[29], line 2\u001b[0m\n\u001b[0;32m      1\u001b[0m sns\u001b[38;5;241m.\u001b[39mheatmap(correlation_matrix, annot\u001b[38;5;241m=\u001b[39m\u001b[38;5;28;01mTrue\u001b[39;00m, cmap\u001b[38;5;241m=\u001b[39m\u001b[38;5;124m'\u001b[39m\u001b[38;5;124mcoolwarm\u001b[39m\u001b[38;5;124m'\u001b[39m, linewidths\u001b[38;5;241m=\u001b[39m\u001b[38;5;241m0.5\u001b[39m)\n\u001b[1;32m----> 2\u001b[0m \u001b[43mplt\u001b[49m\u001b[38;5;241;43m.\u001b[39;49m\u001b[43mtitle\u001b[49m(\u001b[38;5;124m'\u001b[39m\u001b[38;5;124mCorrelation between Experience, Education, and Salary\u001b[39m\u001b[38;5;124m'\u001b[39m)\n\u001b[0;32m      3\u001b[0m plt\u001b[38;5;241m.\u001b[39mshow()\n",
      "File \u001b[1;32mE:\\Anaconda\\Lib\\site-packages\\matplotlib\\_api\\__init__.py:217\u001b[0m, in \u001b[0;36mcaching_module_getattr.<locals>.__getattr__\u001b[1;34m(name)\u001b[0m\n\u001b[0;32m    215\u001b[0m \u001b[38;5;28;01mif\u001b[39;00m name \u001b[38;5;129;01min\u001b[39;00m props:\n\u001b[0;32m    216\u001b[0m     \u001b[38;5;28;01mreturn\u001b[39;00m props[name]\u001b[38;5;241m.\u001b[39m\u001b[38;5;21m__get__\u001b[39m(instance)\n\u001b[1;32m--> 217\u001b[0m \u001b[38;5;28;01mraise\u001b[39;00m \u001b[38;5;167;01mAttributeError\u001b[39;00m(\n\u001b[0;32m    218\u001b[0m     \u001b[38;5;124mf\u001b[39m\u001b[38;5;124m\"\u001b[39m\u001b[38;5;124mmodule \u001b[39m\u001b[38;5;132;01m{\u001b[39;00m\u001b[38;5;28mcls\u001b[39m\u001b[38;5;241m.\u001b[39m\u001b[38;5;18m__module__\u001b[39m\u001b[38;5;132;01m!r}\u001b[39;00m\u001b[38;5;124m has no attribute \u001b[39m\u001b[38;5;132;01m{\u001b[39;00mname\u001b[38;5;132;01m!r}\u001b[39;00m\u001b[38;5;124m\"\u001b[39m)\n",
      "\u001b[1;31mAttributeError\u001b[0m: module 'matplotlib' has no attribute 'title'"
     ]
    },
    {
     "data": {
      "image/png": "[encoded data removed]",
      "text/plain": [
       "<Figure size 640x480 with 2 Axes>"
      ]
     },
     "metadata": {},
     "output_type": "display_data"
    }
   ],
   "source": [
    "sns.heatmap(correlation_matrix, annot=True, cmap='coolwarm', linewidths=0.5)\n",
    "plt.title('Correlation between Experience, Education, and Salary')\n",
    "plt.show()"
   ]
  },
  {
   "cell_type": "markdown",
   "id": "df279123-c61f-41c2-a710-6a8058e21113",
   "metadata": {},
   "source": [
    "The heatmap visualization helps to easily see the strength and direction of correlations:\n",
    "\n",
    "Experience vs. Salary: The moderate positive correlation is represented by a lighter color, showing a noticeable but not very strong relationship.\n",
    "\n",
    "Education vs. Salary: The very weak positive correlation is nearly negligible, indicating that higher education requirements do not correlate strongly with increased salaries.\n",
    "\n",
    "Experience vs. Education: The negative correlation is visually represented by a darker blue, indicating an inverse relationship, albeit not very strong."
   ]
  },
  {
   "cell_type": "markdown",
   "id": "aea10d58-ed29-416f-88f3-7f6fc1482d61",
   "metadata": {},
   "source": [
    "### Summary"
   ]
  },
  {
   "cell_type": "markdown",
   "id": "9550e415-87b2-4680-8576-0923151a17d5",
   "metadata": {},
   "source": [
    "Experience Requirements: Roles like Management Consultant and Software Engineer tend to require higher experience levels, which moderately correlates with higher salary.\n",
    "\n",
    "Education Requirements: Positions like Assistant Professor require advanced degrees (doctorates), while most technical and corporate roles (e.g., Software Engineer, Data Scientist) are more focused on Bachelor's and Master's degrees.\n",
    "\n",
    "Correlation Observations:\n",
    "\n",
    "Experience has a moderate positive effect on salary, suggesting that employers value experience for higher compensation.\n",
    "Education has a minimal effect on salary, implying that higher degrees do not guarantee significantly higher pay.\n",
    "Experience vs. Education shows a weak negative correlation, indicating a slight trade-off between the two; higher education might be considered a replacement for work experience in some cases."
   ]
  },
  {
   "cell_type": "code",
   "execution_count": null,
   "id": "4185460f-f85a-4575-ad53-b15c555e0246",
   "metadata": {},
   "outputs": [],
   "source": []
  }
 ],
 "metadata": {
  "kernelspec": {
   "display_name": "Python 3 (ipykernel)",
   "language": "python",
   "name": "python3"
  },
  "language_info": {
   "codemirror_mode": {
    "name": "ipython",
    "version": 3
   },
   "file_extension": ".py",
   "mimetype": "text/x-python",
   "name": "python",
   "nbconvert_exporter": "python",
   "pygments_lexer": "ipython3",
   "version": "3.12.4"
  }
 },
 "nbformat": 4,
 "nbformat_minor": 5
}
